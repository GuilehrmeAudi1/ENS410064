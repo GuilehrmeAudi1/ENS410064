{
 "cells": [
  {
   "cell_type": "markdown",
   "id": "7f9a3623-cf38-45bd-a7f9-10a0ac520a3a",
   "metadata": {},
   "source": [
    "# Atividade 03\n",
    "\n",
    "Nesse script, será desenvolvido:\n",
    "* Uma função para determinar a classe de estabilidade de Pasquil para diferentes condições atmosféricas.\n",
    "\n",
    "* A função de estimativa de coefiente de dispersão (sigmaYZ) para todas as classes de estabilidade.\n",
    "\n",
    "*  Implementar a função de estimativa de sobrelevação da pluma utilizando os métodos de Davidson-Bryant, Holland e Briggs. Deve ser considerado o efeito Tip-Downwash\n",
    "\n",
    "*  Função do modelo gaussiano\n",
    "\n",
    "* Realizar simulações com o script criado, utilizando diferentes classes de estabilidade, velocidades do vento, alturas de chaminé. Considere a taxa de emissão que você estimou na primeira atividade. Encontre a altura de chaminé necessária para que as concentrações não violem os padrões da Resolução CONAMA 491.\n"
   ]
  },
  {
   "cell_type": "code",
   "execution_count": 6,
   "id": "63a5f16e-1e7d-41ef-806f-6e4ee36ce783",
   "metadata": {},
   "outputs": [
    {
     "name": "stdout",
     "output_type": "stream",
     "text": [
      "         Date  Cloud Cover  Solar Radiation (W/m^2)  Wind Speed (m/s)\n",
      "0  2023-12-06            8               499.789341          7.496840\n",
      "1  2023-12-07            8               737.455857         11.061838\n",
      "2  2023-12-08            1               687.658194         10.314873\n",
      "3  2023-12-09            0               671.545626         10.073184\n",
      "4  2023-12-10            8               666.663303          9.999950\n",
      "5  2023-12-11            6               256.909289          3.853639\n",
      "6  2023-12-12            4               749.692075         11.245381\n",
      "7  2023-12-13            0               451.283413          6.769251\n",
      "8  2023-12-14            5               486.145442          7.292182\n",
      "9  2023-12-15            6               724.264747         10.863971\n",
      "10 2023-06-21            6               250.099665          3.751495\n",
      "11 2023-06-22            6               740.568314         11.108525\n",
      "12 2023-06-23            3               743.990255         11.159854\n",
      "13 2023-06-24            7               729.389500         10.940842\n",
      "14 2023-06-25            7               487.758112          7.316372\n",
      "15 2023-06-26            8               600.532642          9.007990\n",
      "16 2023-06-27            8               558.253812          8.373807\n",
      "17 2023-06-28            6               698.831568         10.482474\n",
      "18 2023-06-29            3               270.701090          4.060516\n",
      "19 2023-06-30            1               405.976619          6.089649\n"
     ]
    }
   ],
   "source": [
    "import numpy as np\n",
    "import pandas as pd\n",
    "\n",
    "# Definindo a quantidade de dados\n",
    "num_values = 20\n",
    "\n",
    "# Gerando vetor de datas para 5 dias no verão e 5 dias no inverno\n",
    "summer_dates = pd.date_range(start='2023-12-06', periods=10, freq='D')  # Dias de verão no Brasil \n",
    "winter_dates = pd.date_range(start='2023-06-21', periods=10, freq='D')  # Dias de inverno no Brasil\n",
    "dates = summer_dates.append(winter_dates)\n",
    "\n",
    "# Gerando vetor de cobertura de nuvens (valores entre 0 e 8)\n",
    "cloud_cover = np.random.randint(0, 9, size=num_values)\n",
    "\n",
    "# Gerando vetor de radiação solar usando o método de Monte Carlo com seno e cosseno\n",
    "# Assumindo valores entre 0 e 1000 W/m^2\n",
    "random_factors = np.random.rand(num_values)  # fatores aleatórios entre 0 e 1\n",
    "solar_radiation = 500 + 500 * np.sin(2 * np.pi * random_factors) * np.cos(2 * np.pi * random_factors)\n",
    "\n",
    "# Gerando vetor de velocidade do vento usando o método de Monte Carlo com seno e cosseno\n",
    "# Assumindo valores entre 0 e 15 m/s\n",
    "wind_speed = 7.5 + 7.5 * np.sin(2 * np.pi * random_factors) * np.cos(2 * np.pi * random_factors)\n",
    "\n",
    "# Criando DataFrame para organizar os dados\n",
    "data = pd.DataFrame({\n",
    "    'Date': dates,\n",
    "    'Cloud Cover': cloud_cover,\n",
    "    'Solar Radiation (W/m^2)': solar_radiation,\n",
    "    'Wind Speed (m/s)': wind_speed\n",
    "})\n",
    "print(data)\n"
   ]
  },
  {
   "cell_type": "code",
   "execution_count": 7,
   "id": "dca7eb7b-422f-4867-b304-50f3f1a903a4",
   "metadata": {},
   "outputs": [
    {
     "name": "stdout",
     "output_type": "stream",
     "text": [
      "         Date  Cloud Cover  Solar Radiation (W/m^2)  Wind Speed (m/s)  \\\n",
      "0  2024-01-01            7                75.984205          7.559534   \n",
      "1  2024-01-02            0               860.349142         11.001721   \n",
      "2  2024-01-03            2               549.407513          1.462601   \n",
      "3  2024-01-04            6               629.049613         11.853067   \n",
      "4  2024-01-05            7               192.387702          9.689186   \n",
      "5  2024-01-06            2               309.820127          9.861909   \n",
      "6  2024-01-07            0               928.563554         14.760062   \n",
      "7  2024-01-08            6               369.162564          7.366146   \n",
      "8  2024-01-09            5               330.573869          9.211401   \n",
      "9  2024-01-10            4               682.732506          4.042298   \n",
      "10 2024-01-11            7               616.573946          9.216108   \n",
      "11 2024-01-12            0               966.666367          9.716623   \n",
      "12 2024-01-13            1               281.769200          3.303062   \n",
      "13 2024-01-14            4               568.902014          0.987798   \n",
      "14 2024-01-15            7                88.573421         13.668678   \n",
      "15 2024-01-16            1               304.040176          0.059280   \n",
      "16 2024-01-17            4               779.650197          7.917915   \n",
      "17 2024-01-18            0               985.905085          9.943360   \n",
      "18 2024-01-19            8               646.178231          7.392075   \n",
      "19 2024-01-20            0               850.774976          1.186732   \n",
      "\n",
      "   Stability Class  \n",
      "0                D  \n",
      "1                C  \n",
      "2                B  \n",
      "3                D  \n",
      "4                D  \n",
      "5                D  \n",
      "6                C  \n",
      "7                D  \n",
      "8                D  \n",
      "9                D  \n",
      "10               D  \n",
      "11               C  \n",
      "12               D  \n",
      "13               D  \n",
      "14               D  \n",
      "15               B  \n",
      "16               D  \n",
      "17               C  \n",
      "18               D  \n",
      "19               A  \n"
     ]
    }
   ],
   "source": [
    "import pandas as pd\n",
    "\n",
    "# Função para classificar a estabilidade de acordo com Pasquil\n",
    "def classify_stability(row):\n",
    "    wind_speed = row['Wind Speed (m/s)']\n",
    "    cloud_cover = row['Cloud Cover']\n",
    "    solar_radiation = row['Solar Radiation (W/m^2)']\n",
    "    \n",
    "    # Classificação baseada em cobertura de nuvens e velocidade do vento\n",
    "    if cloud_cover <= 3:\n",
    "        if wind_speed < 2:\n",
    "            if solar_radiation > 600:\n",
    "                return 'A'\n",
    "            elif solar_radiation > 300:\n",
    "                return 'B'\n",
    "            else:\n",
    "                return 'C'\n",
    "        elif wind_speed < 3:\n",
    "            if solar_radiation > 600:\n",
    "                return 'A'\n",
    "            elif solar_radiation > 300:\n",
    "                return 'B'\n",
    "            else:\n",
    "                return 'C'\n",
    "        elif wind_speed < 5:\n",
    "            if solar_radiation > 600:\n",
    "                return 'B'\n",
    "            elif solar_radiation > 300:\n",
    "                return 'C'\n",
    "            else:\n",
    "                return 'D'\n",
    "        else:\n",
    "            if solar_radiation > 600:\n",
    "                return 'C'\n",
    "            elif solar_radiation > 300:\n",
    "                return 'D'\n",
    "            else:\n",
    "                return 'D'\n",
    "    elif cloud_cover <= 6:\n",
    "        if wind_speed < 3:\n",
    "            return 'D'\n",
    "        elif wind_speed < 5:\n",
    "            return 'D'\n",
    "        else:\n",
    "            return 'D'\n",
    "    else:\n",
    "        if wind_speed < 2:\n",
    "            return 'E'\n",
    "        elif wind_speed < 3:\n",
    "            return 'E'\n",
    "        elif wind_speed < 5:\n",
    "            return 'D'\n",
    "        else:\n",
    "            return 'D'\n",
    "\n",
    "# Carregar os dados fictícios gerados anteriormente\n",
    "data = pd.DataFrame({\n",
    "    'Date': pd.date_range(start='2024-01-01', periods=20, freq='D'),\n",
    "    'Cloud Cover': np.random.randint(0, 9, size=20),\n",
    "    'Solar Radiation (W/m^2)': 500 + 500 * np.sin(2 * np.pi * np.random.rand(20)) * np.cos(2 * np.pi * np.random.rand(20)),\n",
    "    'Wind Speed (m/s)': 7.5 + 7.5 * np.sin(2 * np.pi * np.random.rand(20)) * np.cos(2 * np.pi * np.random.rand(20))\n",
    "})\n",
    "\n",
    "# Aplicando a função de classificação\n",
    "data['Stability Class'] = data.apply(classify_stability, axis=1)\n",
    "\n",
    "print(data)\n"
   ]
  },
  {
   "cell_type": "markdown",
   "id": "6c8269e1-14d5-4e57-a5a9-2895de043917",
   "metadata": {},
   "source": [
    "## 2) Implementação da função sigma YZ para estimar os coeficientes de dispersão"
   ]
  },
  {
   "cell_type": "code",
   "execution_count": 39,
   "id": "f230a1f2-7d54-4911-b5d4-81603e0f75d9",
   "metadata": {},
   "outputs": [
    {
     "name": "stdout",
     "output_type": "stream",
     "text": [
      "Classe: C, Ambiente: urbano, x: 1000\n",
      "sigmaY: 185.93393604027364, sigmaZ: 200.0\n",
      "Resultado: sigmaY = 185.93393604027364, sigmaZ = 200.0\n"
     ]
    }
   ],
   "source": [
    "def sigmaYZ(x, classe, urbOrRural):\n",
    "    if urbOrRural == 'urbano':\n",
    "        if classe == 'A' or classe == 'B':\n",
    "            sigmaY = 0.32 * x * (1 + 0.0004 * x) ** (-0.5)\n",
    "            sigmaZ = 0.24 * x * (1 + 0.001 * x) ** 0.5\n",
    "        elif classe == 'C':\n",
    "            sigmaY = 0.22 * x * (1 + 0.0004 * x) ** (-0.5)\n",
    "            sigmaZ = 0.20 * x\n",
    "        elif classe == 'D':\n",
    "            sigmaY = 0.16 * x * (1 + 0.0004 * x) ** (-0.5)\n",
    "            sigmaZ = 0.14 * x * (1 + 0.0003 * x) ** (-0.5)\n",
    "        elif classe == 'E' or classe == 'F':\n",
    "            sigmaY = 0.11 * x * (1 + 0.0004 * x) ** (-0.5)\n",
    "            sigmaZ = 0.08 * x * (1 + 0.0015 * x) ** (-0.5)\n",
    "        else:\n",
    "            raise ValueError('Classe de estabilidade errada')\n",
    "    elif urbOrRural == 'rural':\n",
    "        if classe == 'A':\n",
    "            sigmaY = 0.22 * x * (1 + 0.0001 * x) ** (-0.5)\n",
    "            sigmaZ = 0.20 * x\n",
    "        elif classe == 'B':\n",
    "            sigmaY = 0.16 * x * (1 + 0.0001 * x) ** (-0.5)\n",
    "            sigmaZ = 0.12 * x\n",
    "        elif classe == 'C':\n",
    "            sigmaY = 0.11 * x * (1 + 0.0001 * x) ** (-0.5)\n",
    "            sigmaZ = 0.08 * x * (1 + 0.0002 * x) ** (-0.5)\n",
    "        elif classe == 'D':\n",
    "            sigmaY = 0.08 * x * (1 + 0.0001 * x) ** (-0.5)\n",
    "            sigmaZ = 0.06 * x * (1 + 0.0003 * x) ** (-0.5)\n",
    "        elif classe == 'E':\n",
    "            sigmaY = 0.06 * x * (1 + 0.0001 * x) ** (-0.5)\n",
    "            sigmaZ = 0.03 * x * (1 + 0.0003 * x) ** (-1)\n",
    "        elif classe == 'F':\n",
    "            sigmaY = 0.04 * x * (1 + 0.0001 * x) ** (-0.5)\n",
    "            sigmaZ = 0.016 * x * (1 + 0.0003 * x) ** (-1)\n",
    "        else:\n",
    "            raise ValueError('Classe de estabilidade errada')\n",
    "    else:\n",
    "        raise ValueError('Tipo de ambiente deve ser \"urbano\" ou \"rural\"')\n",
    "\n",
    "    # Adicionando declarações de impressão para depuração\n",
    "    print(f\"Classe: {classe}, Ambiente: {urbOrRural}, x: {x}\")\n",
    "    print(f\"sigmaY: {sigmaY}, sigmaZ: {sigmaZ}\")\n",
    "\n",
    "    return sigmaY, sigmaZ\n",
    "\n",
    "# Exemplo de chamada da função\n",
    "x = 1000\n",
    "classe = 'C'\n",
    "urbOrRural = 'urbano'\n",
    "sigmaY, sigmaZ = sigmaYZ(x, classe, urbOrRural)\n",
    "print(f\"Resultado: sigmaY = {sigmaY}, sigmaZ = {sigmaZ}\")\n"
   ]
  },
  {
   "cell_type": "markdown",
   "id": "46ce9897-cadd-44df-9c96-4fe9c0316c9c",
   "metadata": {},
   "source": [
    "# 3) Implementação do método de Briggs para cálculo da sobrelevação da pluma. "
   ]
  },
  {
   "cell_type": "code",
   "execution_count": 28,
   "id": "3985df08-13d7-4f31-a7fc-4fae25f52969",
   "metadata": {},
   "outputs": [],
   "source": [
    "def briggs_plume_rise(wind_speed, stack_height, exit_velocity, stack_diameter, delta_temp, temp_ambient, stability_class):\n",
    "    \"\"\"\n",
    "    Calcula a sobrelevação da pluma usando a fórmula de Briggs considerando classes de estabilidade.\n",
    "    \n",
    "    Parâmetros:\n",
    "    - wind_speed: velocidade do vento (m/s)\n",
    "    - stack_height: altura da chaminé (m)\n",
    "    - exit_velocity: velocidade de saída dos gases (m/s)\n",
    "    - stack_diameter: diâmetro da chaminé (m)\n",
    "    - delta_temp: diferença de temperatura entre os gases de saída e o ar ambiente (K)\n",
    "    - temp_ambient: temperatura do ar ambiente (K)\n",
    "    - stability_class: classe de estabilidade de Pasquil (C ou D)\n",
    "    \n",
    "    Retorna:\n",
    "    - plume_rise: sobrelevação da pluma (m)\n",
    "    \"\"\"\n",
    "    \n",
    "    g = 9.81  # aceleração gravitacional (m/s^2)\n",
    "    buoyancy_flux = (g * stack_diameter**2 * exit_velocity * delta_temp) / (4 * temp_ambient)  # fluxo de flutuabilidade\n",
    "    \n",
    "    if stability_class == 'C':\n",
    "        plume_rise = (2.6 * buoyancy_flux**0.333 * stack_height**0.667) / (wind_speed + 0.5 * exit_velocity)\n",
    "    elif stability_class == 'D':\n",
    "        plume_rise = (1.6 * buoyancy_flux**0.333 * stack_height**0.667) / (wind_speed + 0.5 * exit_velocity)\n",
    "    else:\n",
    "        raise ValueError('Classe de estabilidade inválida. Use \"C\" ou \"D\".')\n",
    "    \n",
    "    return plume_rise\n",
    "\n",
    "# Parâmetros fixos\n",
    "stack_height = 45 # m\n",
    "exit_velocity = 10  # m/s\n",
    "stack_diameter = 3  # m\n",
    "delta_temp = 150  # K\n",
    "temp_ambient = 298  # K\n",
    "\n",
    "# Aplicando a função ao DataFrame para calcular a pluma\n",
    "data['Plume Rise'] = data.apply(lambda row: briggs_plume_rise(\n",
    "    row['Wind Speed (m/s)'],\n",
    "    stack_height,\n",
    "    exit_velocity,\n",
    "    stack_diameter,\n",
    "    delta_temp,\n",
    "    temp_ambient,\n",
    "    stability_class\n",
    "), axis=1)"
   ]
  },
  {
   "cell_type": "markdown",
   "id": "d252b458-4e3f-4150-9e7f-8074787672d4",
   "metadata": {},
   "source": [
    "## 4) implementar o modelo gaussiano"
   ]
  },
  {
   "cell_type": "code",
   "execution_count": 29,
   "id": "d926158f-1574-4f7a-a7a1-06f45a27777b",
   "metadata": {},
   "outputs": [],
   "source": [
    "# H ALTURA CHAMINÉ + SOBRELEVAÇÃO \n",
    "#Z ALTURA DO NARIZ\n",
    "#Y DIREÇÃO PERPENDICULAR AO EIXO DA PLUMA \n",
    "#VELOCIDADE DO VENTO NO DIA\n",
    "#QS TAXA DE MEISSÃO DO EMPRENDIEMNTO."
   ]
  },
  {
   "cell_type": "markdown",
   "id": "8cd450fa-2c34-4829-9b25-38cab115abfc",
   "metadata": {},
   "source": [
    "Observações de parametros utilizados: Como o estudo de poluição atmosférica deve ser simulado no pior cenário, aqui será considerado o menor valor de sobrelevação da pluma, de modo a simular o momento em que, mesmo com a pluma mais baixa, a altura da chaminé é suficente para dispersar poluentes.\n",
    "Como H =  Maior altura de sobrelevação da pluma + altura da chaminé, foi aferida a altura de 45M para a chaminé do empreendimento da tupy, em Joinville, através da ferramenta goolge earth. \n"
   ]
  },
  {
   "cell_type": "code",
   "execution_count": 44,
   "id": "0fe87d3c-9d11-4113-86b6-a99dd4ed7dc4",
   "metadata": {},
   "outputs": [
    {
     "ename": "SyntaxError",
     "evalue": "invalid syntax (1688137497.py, line 5)",
     "output_type": "error",
     "traceback": [
      "\u001b[1;36m  Cell \u001b[1;32mIn[44], line 5\u001b[1;36m\u001b[0m\n\u001b[1;33m    img = mpimg.imread r'C:\\Users\\guilh\\OneDrive\\Desktop\\polatm\\ENS410064\\chaminé'\u001b[0m\n\u001b[1;37m                       ^\u001b[0m\n\u001b[1;31mSyntaxError\u001b[0m\u001b[1;31m:\u001b[0m invalid syntax\n"
     ]
    }
   ],
   "source": [
    "import matplotlib.pyplot as plt\n",
    "import matplotlib.image as mpimg\n",
    "\n",
    "def processar_dados():\n",
    "    print(\"Processando dados...\")\n",
    "\n",
    "def exibir_imagem():\n",
    "    # Carregar a imagem\n",
    "    img = mpimg.imread('caminho/para/sua/imagem.jpg')\n",
    "\n",
    "    # Exibir a imagem\n",
    "    plt.imshow(img)\n",
    "    plt.axis('off')  # Esconder os eixos\n",
    "    plt.show()\n",
    "\n",
    "def continuar_processo():\n",
    "    print(\"Continuação do processo...\")\n",
    "\n",
    "# Execução do código\n",
    "processar_dados()\n",
    "exibir_imagem()\n",
    "continuar_processo()\n"
   ]
  },
  {
   "cell_type": "code",
   "execution_count": 25,
   "id": "0ec9dd89-fb9b-4083-a365-0c76c900551c",
   "metadata": {},
   "outputs": [
    {
     "name": "stdout",
     "output_type": "stream",
     "text": [
      "O menor valor da pluma é: 5.28 m\n"
     ]
    }
   ],
   "source": [
    "# Encontrando o maior valor da pluma\n",
    "h = data[['Plume Rise C', 'Plume Rise D']].min().min()\n",
    "print(f\"O menor valor da pluma é: {h:.2f} m\")"
   ]
  },
  {
   "cell_type": "code",
   "execution_count": 40,
   "id": "3972b3f5-93f5-4603-99d2-5b799a9e9139",
   "metadata": {},
   "outputs": [
    {
     "name": "stdout",
     "output_type": "stream",
     "text": [
      "50.281674055379035\n",
      "91270.27\n",
      "185.93393604027364\n",
      "200.0\n"
     ]
    },
    {
     "ename": "NameError",
     "evalue": "name 'u' is not defined",
     "output_type": "error",
     "traceback": [
      "\u001b[1;31m---------------------------------------------------------------------------\u001b[0m",
      "\u001b[1;31mNameError\u001b[0m                                 Traceback (most recent call last)",
      "Cell \u001b[1;32mIn[40], line 20\u001b[0m\n\u001b[0;32m     18\u001b[0m \u001b[38;5;28mprint\u001b[39m (sigmaY)\n\u001b[0;32m     19\u001b[0m \u001b[38;5;28mprint\u001b[39m (sigmaZ)\n\u001b[1;32m---> 20\u001b[0m \u001b[38;5;28mprint\u001b[39m (\u001b[43mu\u001b[49m)\n\u001b[0;32m     21\u001b[0m \u001b[38;5;28mprint\u001b[39m (y)\n\u001b[0;32m     22\u001b[0m \u001b[38;5;28mprint\u001b[39m (z)\n",
      "\u001b[1;31mNameError\u001b[0m: name 'u' is not defined"
     ]
    }
   ],
   "source": [
    "# Criando uma função do modelo gaussiano\n",
    "H = h + 45 # menor valor de elevação da pluma + altura da chaminé\n",
    "qs= 91270.27 #g/s #PM-10\n",
    "\n",
    "\n",
    "\n",
    "\n",
    "\n",
    "import numpy as np\n",
    "def modeloGaussiano(qs,sigmaY,sigmaZ,u,y,z,H):\n",
    "    termo1 = qs/(2*np.pi*sigmaY*sigmaZ*u)\n",
    "    termo2 = np.exp((-y**2)/(2*sigmaY**2))\n",
    "    termo3 = np.exp((-(z-H)**2)/(2*sigmaZ**2)) + np.exp((-(z+H)**2)/(2*sigmaZ**2))\n",
    "    conc = termo1*termo2*termo3\n",
    "    return conc\n",
    "print (H) \n",
    "print (qs)\n",
    "print (sigmaY)\n",
    "print (sigmaZ)\n",
    "print (u)\n",
    "print (y)\n",
    "print (z)\n",
    "print(conc)"
   ]
  },
  {
   "cell_type": "code",
   "execution_count": null,
   "id": "b0007824-342b-4ef8-9a33-e480c917c21a",
   "metadata": {},
   "outputs": [],
   "source": []
  },
  {
   "cell_type": "code",
   "execution_count": null,
   "id": "5251dd2d-ec20-4dc8-acfa-1d21260d1968",
   "metadata": {},
   "outputs": [],
   "source": []
  }
 ],
 "metadata": {
  "kernelspec": {
   "display_name": "Python 3 (ipykernel)",
   "language": "python",
   "name": "python3"
  },
  "language_info": {
   "codemirror_mode": {
    "name": "ipython",
    "version": 3
   },
   "file_extension": ".py",
   "mimetype": "text/x-python",
   "name": "python",
   "nbconvert_exporter": "python",
   "pygments_lexer": "ipython3",
   "version": "3.11.8"
  }
 },
 "nbformat": 4,
 "nbformat_minor": 5
}
