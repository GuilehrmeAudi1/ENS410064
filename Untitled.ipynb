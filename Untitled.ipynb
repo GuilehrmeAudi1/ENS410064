{
 "cells": [
  {
   "cell_type": "code",
   "execution_count": 1,
   "id": "11e858aa-5dc5-40c1-8305-3ca077d9807a",
   "metadata": {},
   "outputs": [
    {
     "name": "stdout",
     "output_type": "stream",
     "text": [
      "Guilherme  gente fina \n"
     ]
    }
   ],
   "source": [
    "# Tipos de variáveis\n",
    "a  = 'Guilherme '\n",
    "b = a + ' gente fina '\n",
    "print (b)\n"
   ]
  },
  {
   "cell_type": "code",
   "execution_count": 2,
   "id": "149980cd-90df-4a21-8464-fca551871752",
   "metadata": {},
   "outputs": [
    {
     "name": "stdout",
     "output_type": "stream",
     "text": [
      "11\n",
      "<class 'int'>\n"
     ]
    }
   ],
   "source": [
    "# tipos de  variaáveis interias \n",
    "c = 1 \n",
    "d = c + 10 \n",
    "print(d)\n",
    "print(type(d))"
   ]
  },
  {
   "cell_type": "code",
   "execution_count": 6,
   "id": "4fbe6c7c-6065-419e-9592-a9bbb57b244c",
   "metadata": {},
   "outputs": [
    {
     "name": "stdout",
     "output_type": "stream",
     "text": [
      "valor de g = 21.0e o valor de h110.25\n",
      "<class 'float'>\n"
     ]
    }
   ],
   "source": [
    "# tipos de variável - float \n",
    "f = 10.5 \n",
    "g = f * 2 \n",
    "h= f**2 \n",
    "print('valor de g = ' + str(g) + 'e o valor de h' + str(h))\n",
    "print (type (h)) "
   ]
  },
  {
   "cell_type": "code",
   "execution_count": 11,
   "id": "d1fa23a9-5e2e-4314-8c9c-0ed879ae7fe7",
   "metadata": {},
   "outputs": [
    {
     "name": "stdout",
     "output_type": "stream",
     "text": [
      "['Guilherme', 'Flávia', 'Lucas']\n",
      "[3, 6, 6]\n",
      "<class 'list'>\n"
     ]
    }
   ],
   "source": [
    "# Exemplo de dicionário \n",
    "\n",
    "dicionario = { \n",
    "    'alunos' :['Guilherme', 'Flávia', 'Lucas'],\n",
    "    'notas':[3,6,6]\n",
    "}\n",
    "print(dicionario['alunos'])\n",
    "print(dicionario['notas'])\n",
    "print(type(dicionario['notas']))\n",
    "           "
   ]
  },
  {
   "cell_type": "code",
   "execution_count": 24,
   "id": "8186a254-bd51-4f83-a313-b00336102f07",
   "metadata": {},
   "outputs": [
    {
     "name": "stdout",
     "output_type": "stream",
     "text": [
      "False\n",
      "True\n",
      "False\n",
      "True\n",
      "True\n",
      "True\n",
      "<class 'bool'>\n"
     ]
    }
   ],
   "source": [
    "#operações lógicas\n",
    "\n",
    "a = 1\n",
    "b = 3 \n",
    "c = 1\n",
    "print(a==b)\n",
    "print(a==c)\n",
    "print (a>b)#maior que\n",
    "print (a<b)#menor que\n",
    "print (a>=c)#maior ou iguak \n",
    "print(a!=b)#diferente de \n",
    "\n",
    "opTF = a!=c\n",
    "print(type(opTF))\n",
    "\n",
    "opT = True \n",
    "opF = False \n"
   ]
  },
  {
   "cell_type": "code",
   "execution_count": 26,
   "id": "b8daf4aa-66ac-443c-83d2-17e6c27d6949",
   "metadata": {},
   "outputs": [
    {
     "name": "stdout",
     "output_type": "stream",
     "text": [
      "[0.93073689 0.51733362 0.97942324 0.66261589 0.32744199 0.08196859\n",
      " 0.75688968 0.10040115 0.28400494 0.15963281 0.35081347 0.17404055\n",
      " 0.75107832 0.0703666  0.15545278 0.54253194 0.46332185 0.84530733\n",
      " 0.15545246 0.16588245 0.82187179 0.88136332 0.70930354 0.60018667\n",
      " 0.03955755 0.13256987 0.89315822 0.02392399 0.13186601 0.58233564\n",
      " 0.44866529 0.21115477 0.33517708 0.46870348 0.0159653  0.30655039\n",
      " 0.54178738 0.20318448 0.19532274 0.49734088 0.55841979 0.65643067\n",
      " 0.63330582 0.8040831  0.61232972 0.49175452 0.71082714 0.70241031\n",
      " 0.83399932 0.55689394 0.67637215 0.97113225 0.93253628 0.37800407\n",
      " 0.11573222 0.75954445 0.98478842 0.02637285 0.84339608 0.59524479\n",
      " 0.08723437 0.35879608 0.07647705 0.56410084 0.72417433 0.07686985\n",
      " 0.76907286 0.42433164 0.57847127 0.69324198 0.40011704 0.76315511\n",
      " 0.7255545  0.5553562  0.95178094 0.28985527 0.62433541 0.23772812\n",
      " 0.37200346 0.28189803 0.91934915 0.52448573 0.4801876  0.50847127\n",
      " 0.1120844  0.55496556 0.56537932 0.92955504 0.67897947 0.17931732\n",
      " 0.07856576 0.05879589 0.97580859 0.68705434 0.3372531  0.228948\n",
      " 0.10447926 0.45479405 0.97464719 0.61901387]\n"
     ]
    }
   ],
   "source": [
    "#matriz numpy \n",
    "import numpy as np\n",
    "vec = np.random.rand(100)\n",
    "print(vec)\n",
    "vec2= np.sin(vec)\n",
    "print(vec2)\n",
    "import pandasas pd \n",
    "df = pd.DataFrame\n"
   ]
  },
  {
   "cell_type": "code",
   "execution_count": null,
   "id": "e20b8ef4-4805-4379-b627-f9071e217159",
   "metadata": {},
   "outputs": [],
   "source": []
  }
 ],
 "metadata": {
  "kernelspec": {
   "display_name": "Python 3 (ipykernel)",
   "language": "python",
   "name": "python3"
  },
  "language_info": {
   "codemirror_mode": {
    "name": "ipython",
    "version": 3
   },
   "file_extension": ".py",
   "mimetype": "text/x-python",
   "name": "python",
   "nbconvert_exporter": "python",
   "pygments_lexer": "ipython3",
   "version": "3.11.8"
  }
 },
 "nbformat": 4,
 "nbformat_minor": 5
}
