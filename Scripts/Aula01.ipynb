{
 "cells": [
  {
   "cell_type": "markdown",
   "id": "33ab4fab-80d0-4bc2-a068-7b0206f867a1",
   "metadata": {},
   "source": [
    "# Aula 03/04/2024 - comandos básicos no Python\n",
    "\n",
    "nesta aula aprenderemos a importar pacotes e os tipos de variáveis ** Desenvolvedor: Guilherme Audi"
   ]
  },
  {
   "cell_type": "markdown",
   "id": "4e34ffb5-2a7e-4172-a352-0aa9e4afc78f",
   "metadata": {},
   "source": [
    "## Tipos de variáveis "
   ]
  },
  {
   "cell_type": "code",
   "execution_count": 7,
   "id": "98564366-e3c6-4256-bbd3-0cb9d79cf0f9",
   "metadata": {},
   "outputs": [
    {
     "name": "stdout",
     "output_type": "stream",
     "text": [
      "a = 1\n",
      "<class 'int'>\n"
     ]
    }
   ],
   "source": [
    "# criando variáveis inteiras \n",
    "a = 1\n",
    "print('a = ' + str(a))\n",
    "print(type(a))\n"
   ]
  },
  {
   "cell_type": "code",
   "execution_count": 8,
   "id": "c57f2e19-0c25-412c-aedc-3aa8bdf3dd16",
   "metadata": {},
   "outputs": [
    {
     "name": "stdout",
     "output_type": "stream",
     "text": [
      "Salve o corinthians\n",
      "<class 'str'>\n"
     ]
    }
   ],
   "source": [
    "#criando variáveis string \n",
    "b = 'Salve o '\n",
    "c = 'corinthians'\n",
    "print(b+c)\n",
    "print(type(b))"
   ]
  },
  {
   "cell_type": "code",
   "execution_count": 9,
   "id": "18eb4fdf-b991-4be8-9201-aab0048febf7",
   "metadata": {},
   "outputs": [
    {
     "name": "stdout",
     "output_type": "stream",
     "text": [
      "666.666\n",
      "<class 'float'>\n"
     ]
    }
   ],
   "source": [
    "# criando variáveis float/double precision \n",
    "d= 666.666 \n",
    "print(d)\n",
    "print(type(d))"
   ]
  }
 ],
 "metadata": {
  "kernelspec": {
   "display_name": "Python 3 (ipykernel)",
   "language": "python",
   "name": "python3"
  },
  "language_info": {
   "codemirror_mode": {
    "name": "ipython",
    "version": 3
   },
   "file_extension": ".py",
   "mimetype": "text/x-python",
   "name": "python",
   "nbconvert_exporter": "python",
   "pygments_lexer": "ipython3",
   "version": "3.11.8"
  }
 },
 "nbformat": 4,
 "nbformat_minor": 5
}
