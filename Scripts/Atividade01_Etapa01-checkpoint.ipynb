{
 "cells": [
  {
   "cell_type": "markdown",
   "id": "9c42552c-3d37-46f6-a361-b8e3f5fdf512",
   "metadata": {},
   "source": [
    "# Atividade01_Etapa01\n"
   ]
  },
  {
   "cell_type": "markdown",
   "id": "d8df68a5-7ead-4d34-b36f-c23466788e7e",
   "metadata": {},
   "source": [
    "# Dados numéricos"
   ]
  },
  {
   "cell_type": "code",
   "execution_count": 4,
   "id": "659d98da-add3-453c-a54b-27b6f3f4c75e",
   "metadata": {},
   "outputs": [
    {
     "name": "stdout",
     "output_type": "stream",
     "text": [
      "Valor de a = 1\n"
     ]
    },
    {
     "data": {
      "text/plain": [
       "int"
      ]
     },
     "execution_count": 4,
     "metadata": {},
     "output_type": "execute_result"
    }
   ],
   "source": [
    "# Variável inteira\n",
    "a = 1\n",
    "print('Valor de a = '+str(a)) #retorna um teto + a string \"a\"\n",
    "type(a) #retorna o tipo de variável de a"
   ]
  },
  {
   "cell_type": "code",
   "execution_count": 6,
   "id": "57532747-e720-496d-b1dc-3810ec178e47",
   "metadata": {},
   "outputs": [
    {
     "name": "stdout",
     "output_type": "stream",
     "text": [
      "1.0\n"
     ]
    },
    {
     "data": {
      "text/plain": [
       "float"
      ]
     },
     "execution_count": 6,
     "metadata": {},
     "output_type": "execute_result"
    }
   ],
   "source": [
    "# Variável dupla precisão\n",
    "b = 1.0\n",
    "print(b) # retorna o valor de de b pré estabelecido \n",
    "type(b)  # retorna o tipo da variavel b, que será um float devido ao uso do \".\""
   ]
  },
  {
   "cell_type": "code",
   "execution_count": 34,
   "id": "53581bc5-a394-4b10-936a-eb7b343f008b",
   "metadata": {},
   "outputs": [
    {
     "name": "stdout",
     "output_type": "stream",
     "text": [
      "1\n"
     ]
    },
    {
     "data": {
      "text/plain": [
       "int"
      ]
     },
     "execution_count": 34,
     "metadata": {},
     "output_type": "execute_result"
    }
   ],
   "source": [
    "# Converter float para int\n",
    "c = int(b) \n",
    "print(c)\n",
    "type(c)"
   ]
  },
  {
   "cell_type": "code",
   "execution_count": 7,
   "id": "8fa947bc-94b7-45f3-9439-474674f68eb2",
   "metadata": {},
   "outputs": [
    {
     "name": "stdout",
     "output_type": "stream",
     "text": [
      "nan\n"
     ]
    },
    {
     "data": {
      "text/plain": [
       "float"
      ]
     },
     "execution_count": 7,
     "metadata": {},
     "output_type": "execute_result"
    }
   ],
   "source": [
    "# Delacrando nan\n",
    "import numpy as np #importa a biblioteca NumPy\n",
    "d = np.nan # atribuindo nan a d\n",
    "print(d) # retorna o valor de de b \n",
    "type(d) # retorna o tipo da variavel b"
   ]
  },
  {
   "cell_type": "code",
   "execution_count": 9,
   "id": "38d60034-b1a7-4b39-aa25-89a2403d8647",
   "metadata": {},
   "outputs": [
    {
     "name": "stdout",
     "output_type": "stream",
     "text": [
      "nan\n",
      "nan\n",
      "1.0\n"
     ]
    }
   ],
   "source": [
    "# Operação com NaN\n",
    "e = d*1 # multiplicar por nan = nan\n",
    "print(e) \n",
    "e = d+1 # somar por nan = nan\n",
    "print(e)\n",
    "e = np.nansum([d,1]) #soma ignorando o nan\n",
    "print(e)"
   ]
  },
  {
   "cell_type": "markdown",
   "id": "ce90a836-9517-4ad0-9524-f10b5d46ec44",
   "metadata": {},
   "source": [
    "# Dados de texto"
   ]
  },
  {
   "cell_type": "code",
   "execution_count": 11,
   "id": "3772b87e-8bfc-4464-af51-e76571638b2d",
   "metadata": {},
   "outputs": [
    {
     "name": "stdout",
     "output_type": "stream",
     "text": [
      "Fábio\n",
      "Gabriel\n",
      "FábioGabriel\n",
      "Fábio Gabriel\n"
     ]
    }
   ],
   "source": [
    "# Declaração de variável texto\n",
    "f = 'Fábio'\n",
    "g = \"Gabriel\"\n",
    "print(f) # retorna o nome pré atribuido \n",
    "print(g) # retorna o nome pré atribuido \n",
    "print(f+g)  # retorna a junbção das variáveis  \n",
    "print(f+' '+g) # retorna a junbção das variáveis com espaço"
   ]
  },
  {
   "cell_type": "markdown",
   "id": "9d9f788f-bdb3-4753-a361-9fe42f419564",
   "metadata": {},
   "source": [
    "# Dados tipo bool - lógica"
   ]
  },
  {
   "cell_type": "code",
   "execution_count": 12,
   "id": "d70ab3b1-a6ed-40d2-aae1-72a4b075238a",
   "metadata": {},
   "outputs": [
    {
     "data": {
      "text/plain": [
       "True"
      ]
     },
     "execution_count": 12,
     "metadata": {},
     "output_type": "execute_result"
    }
   ],
   "source": [
    "a == 1 #verifica a igualdade"
   ]
  },
  {
   "cell_type": "code",
   "execution_count": 14,
   "id": "7fbe53b4-4081-4bba-8f1c-5ef8eb218460",
   "metadata": {},
   "outputs": [
    {
     "name": "stdout",
     "output_type": "stream",
     "text": [
      "True\n"
     ]
    },
    {
     "data": {
      "text/plain": [
       "bool"
      ]
     },
     "execution_count": 14,
     "metadata": {},
     "output_type": "execute_result"
    }
   ],
   "source": [
    "h = (a==1) #atribui a h a verificação entre parenteses \n",
    "print(h)\n",
    "type(h)"
   ]
  },
  {
   "cell_type": "code",
   "execution_count": 15,
   "id": "935ff544-c525-45aa-b212-e1fa5887b5b4",
   "metadata": {},
   "outputs": [
    {
     "name": "stdout",
     "output_type": "stream",
     "text": [
      "False\n"
     ]
    },
    {
     "data": {
      "text/plain": [
       "bool"
      ]
     },
     "execution_count": 15,
     "metadata": {},
     "output_type": "execute_result"
    }
   ],
   "source": [
    "h = (a==2)\n",
    "print(h)\n",
    "type(h)"
   ]
  },
  {
   "cell_type": "code",
   "execution_count": 18,
   "id": "efe166fd-f4f3-4bfa-a4dc-8f08230ebc2b",
   "metadata": {},
   "outputs": [
    {
     "data": {
      "text/plain": [
       "bool"
      ]
     },
     "execution_count": 18,
     "metadata": {},
     "output_type": "execute_result"
    }
   ],
   "source": [
    "i = True #atribui a i o resultado \"True\"\n",
    "type(i)"
   ]
  },
  {
   "cell_type": "code",
   "execution_count": 19,
   "id": "921f5e12-88ed-40fd-bf64-555ff354510f",
   "metadata": {},
   "outputs": [
    {
     "data": {
      "text/plain": [
       "str"
      ]
     },
     "execution_count": 19,
     "metadata": {},
     "output_type": "execute_result"
    }
   ],
   "source": [
    "ii = 'True'\n",
    "type(ii)"
   ]
  },
  {
   "cell_type": "markdown",
   "id": "21fdfd4f-530f-412c-8f01-68668e8c7c84",
   "metadata": {},
   "source": [
    "# Operação de comparação"
   ]
  },
  {
   "cell_type": "code",
   "execution_count": 20,
   "id": "0476ebe8-7a95-4b48-bd22-cde80b76bbb6",
   "metadata": {},
   "outputs": [
    {
     "data": {
      "text/plain": [
       "True"
      ]
     },
     "execution_count": 20,
     "metadata": {},
     "output_type": "execute_result"
    }
   ],
   "source": [
    "# Operação ==\n",
    "a==b # verifica se as duas são iguais"
   ]
  },
  {
   "cell_type": "code",
   "execution_count": 21,
   "id": "5acf1736-a9f9-4c36-a530-33e8ab0e1313",
   "metadata": {},
   "outputs": [
    {
     "data": {
      "text/plain": [
       "False"
      ]
     },
     "execution_count": 21,
     "metadata": {},
     "output_type": "execute_result"
    }
   ],
   "source": [
    "# Operação ><\n",
    "a>b  # verifica se a > b"
   ]
  },
  {
   "cell_type": "code",
   "execution_count": 22,
   "id": "940cb7e6-0b9e-4601-a7c0-82b8debd6048",
   "metadata": {},
   "outputs": [
    {
     "data": {
      "text/plain": [
       "False"
      ]
     },
     "execution_count": 22,
     "metadata": {},
     "output_type": "execute_result"
    }
   ],
   "source": [
    "# Operação !=\n",
    "a!=b # verifica se a! é igual a b"
   ]
  },
  {
   "cell_type": "code",
   "execution_count": 23,
   "id": "2210ce37-6a35-4e3e-90ee-655a7d66f9ec",
   "metadata": {},
   "outputs": [
    {
     "data": {
      "text/plain": [
       "True"
      ]
     },
     "execution_count": 23,
     "metadata": {},
     "output_type": "execute_result"
    }
   ],
   "source": [
    "# Operação >= ou <=\n",
    "a>=b # verifica se a é maior ou igual a b"
   ]
  },
  {
   "cell_type": "markdown",
   "id": "2b05dfda-a0e1-4397-b83e-7aa472f43f17",
   "metadata": {},
   "source": [
    "# Operações matemáticas"
   ]
  },
  {
   "cell_type": "code",
   "execution_count": 24,
   "id": "981ec648-4781-4ee0-9c28-7c53d9528c87",
   "metadata": {},
   "outputs": [
    {
     "data": {
      "text/plain": [
       "2.0"
      ]
     },
     "execution_count": 24,
     "metadata": {},
     "output_type": "execute_result"
    }
   ],
   "source": [
    "# Soma \n",
    "a+b"
   ]
  },
  {
   "cell_type": "code",
   "execution_count": 25,
   "id": "836fde84-6313-4219-ba0b-a850545cb472",
   "metadata": {},
   "outputs": [
    {
     "name": "stdout",
     "output_type": "stream",
     "text": [
      "2.0\n"
     ]
    }
   ],
   "source": [
    "# Soma e atribui valor\n",
    "ab = a+b\n",
    "print(ab)"
   ]
  },
  {
   "cell_type": "code",
   "execution_count": 26,
   "id": "f523060c-bc2b-4f95-a01f-3003a8a847e2",
   "metadata": {},
   "outputs": [
    {
     "name": "stdout",
     "output_type": "stream",
     "text": [
      "Não use l como nome de variável\n",
      "1.0\n"
     ]
    }
   ],
   "source": [
    "# Multiplicação\n",
    "l = a*b # Não use l como variável\n",
    "print(\"Não use l como nome de variável\")\n",
    "j = a*b\n",
    "print(j)"
   ]
  },
  {
   "cell_type": "code",
   "execution_count": 27,
   "id": "6146d04c-7e3c-417c-ac15-8fa6072b63af",
   "metadata": {},
   "outputs": [
    {
     "data": {
      "text/plain": [
       "1.0"
      ]
     },
     "execution_count": 27,
     "metadata": {},
     "output_type": "execute_result"
    }
   ],
   "source": [
    "# Divisão\n",
    "a/b"
   ]
  },
  {
   "cell_type": "code",
   "execution_count": 28,
   "id": "2b837095-53ae-4d87-95c5-cbb6ba7f9957",
   "metadata": {},
   "outputs": [
    {
     "data": {
      "text/plain": [
       "25"
      ]
     },
     "execution_count": 28,
     "metadata": {},
     "output_type": "execute_result"
    }
   ],
   "source": [
    "# Potencia\n",
    "5**2"
   ]
  },
  {
   "cell_type": "code",
   "execution_count": 36,
   "id": "b1cd5015-39ab-4845-b2c3-1cd4517ae4ee",
   "metadata": {},
   "outputs": [
    {
     "data": {
      "text/plain": [
       "22026.465794806718"
      ]
     },
     "execution_count": 36,
     "metadata": {},
     "output_type": "execute_result"
    }
   ],
   "source": [
    "# Operações matemáticas com a bibliotéca math\n",
    "import math\n",
    "\n",
    "math.exp(10) #retorna o valor da exponecial na base entre parenteses"
   ]
  },
  {
   "cell_type": "code",
   "execution_count": 30,
   "id": "fdb027a1-efcb-421e-a22e-f8f6820ebd35",
   "metadata": {},
   "outputs": [
    {
     "data": {
      "text/plain": [
       "1.0"
      ]
     },
     "execution_count": 30,
     "metadata": {},
     "output_type": "execute_result"
    }
   ],
   "source": [
    "math.exp(0)\n"
   ]
  },
  {
   "cell_type": "code",
   "execution_count": 31,
   "id": "6addb012-37d9-488c-be55-a169298a1115",
   "metadata": {},
   "outputs": [
    {
     "data": {
      "text/plain": [
       "2.718281828459045"
      ]
     },
     "execution_count": 31,
     "metadata": {},
     "output_type": "execute_result"
    }
   ],
   "source": [
    "math.exp(a)"
   ]
  },
  {
   "cell_type": "code",
   "execution_count": 32,
   "id": "29f11758-8d49-4f6e-b337-72902efc910e",
   "metadata": {},
   "outputs": [
    {
     "data": {
      "text/plain": [
       "4.5399929762484854e-05"
      ]
     },
     "execution_count": 32,
     "metadata": {},
     "output_type": "execute_result"
    }
   ],
   "source": [
    "math.exp(-10)"
   ]
  },
  {
   "cell_type": "code",
   "execution_count": 35,
   "id": "fb034c3b-d12e-4e1d-ad65-049ff3f54164",
   "metadata": {},
   "outputs": [
    {
     "data": {
      "text/plain": [
       "0.0"
      ]
     },
     "execution_count": 35,
     "metadata": {},
     "output_type": "execute_result"
    }
   ],
   "source": [
    "import math as mt\n",
    "mt.log(c)"
   ]
  },
  {
   "cell_type": "markdown",
   "id": "b2f55bc0-464e-4003-986e-ff51400fcf76",
   "metadata": {},
   "source": [
    "# Listas"
   ]
  },
  {
   "cell_type": "code",
   "execution_count": 38,
   "id": "4a820762-0da9-4143-b977-72aaf1990b2c",
   "metadata": {},
   "outputs": [
    {
     "name": "stdout",
     "output_type": "stream",
     "text": [
      "[1, 2, 3]\n"
     ]
    }
   ],
   "source": [
    "myFirstList = [1,2,3]\n",
    "print(myFirstList) #gera a lista"
   ]
  },
  {
   "cell_type": "code",
   "execution_count": 40,
   "id": "6bb54123-9abf-4bd8-a89c-e63863109e21",
   "metadata": {},
   "outputs": [
    {
     "name": "stdout",
     "output_type": "stream",
     "text": [
      "1\n",
      "3\n"
     ]
    }
   ],
   "source": [
    "# Acessando valores da lista pelo index\n",
    "print(myFirstList[0])\n",
    "print(myFirstList[2]) # acessa os valroes pela posição, começando em 0 "
   ]
  },
  {
   "cell_type": "code",
   "execution_count": 41,
   "id": "b3b1ff57-5eff-4ba3-878a-9abb3d5cc6ce",
   "metadata": {},
   "outputs": [
    {
     "data": {
      "text/plain": [
       "False"
      ]
     },
     "execution_count": 41,
     "metadata": {},
     "output_type": "execute_result"
    }
   ],
   "source": [
    "myFirstList==a"
   ]
  },
  {
   "cell_type": "code",
   "execution_count": 42,
   "id": "c296e8b3-60cd-4294-8134-90d199b8d2cc",
   "metadata": {},
   "outputs": [
    {
     "data": {
      "text/plain": [
       "True"
      ]
     },
     "execution_count": 42,
     "metadata": {},
     "output_type": "execute_result"
    }
   ],
   "source": [
    "myFirstList[0]==a"
   ]
  },
  {
   "cell_type": "code",
   "execution_count": 43,
   "id": "b524af12-340c-4095-a03c-ec44f1a92a2b",
   "metadata": {},
   "outputs": [
    {
     "name": "stdout",
     "output_type": "stream",
     "text": [
      "[1, 1, 'c']\n"
     ]
    }
   ],
   "source": [
    "mySecList = [1,a,'c']\n",
    "print(mySecList)"
   ]
  },
  {
   "cell_type": "code",
   "execution_count": 44,
   "id": "b18a6efb-3ac8-466b-ba17-a206251d9f10",
   "metadata": {},
   "outputs": [
    {
     "data": {
      "text/plain": [
       "list"
      ]
     },
     "execution_count": 44,
     "metadata": {},
     "output_type": "execute_result"
    }
   ],
   "source": [
    "type(mySecList)"
   ]
  },
  {
   "cell_type": "code",
   "execution_count": 45,
   "id": "bb9bf93f-b54e-4513-b050-91bc5e6a7f8d",
   "metadata": {},
   "outputs": [
    {
     "data": {
      "text/plain": [
       "str"
      ]
     },
     "execution_count": 45,
     "metadata": {},
     "output_type": "execute_result"
    }
   ],
   "source": [
    "type(mySecList[2])"
   ]
  },
  {
   "cell_type": "code",
   "execution_count": 46,
   "id": "344067d8-f9f5-4c27-ae4d-72843948f6de",
   "metadata": {},
   "outputs": [
    {
     "data": {
      "text/plain": [
       "int"
      ]
     },
     "execution_count": 46,
     "metadata": {},
     "output_type": "execute_result"
    }
   ],
   "source": [
    "type(mySecList[1])"
   ]
  },
  {
   "cell_type": "markdown",
   "id": "04f1ac2f-67e0-4ebc-bf20-376d542dfdd9",
   "metadata": {},
   "source": [
    "# Caminhos = path"
   ]
  },
  {
   "cell_type": "code",
   "execution_count": 57,
   "id": "ea85efbb-36dd-44f0-b1ee-db7cb8a21392",
   "metadata": {},
   "outputs": [
    {
     "name": "stdout",
     "output_type": "stream",
     "text": [
      "C:\\Users\\guilh\\OneDrive\\Desktop\\polatm\\ENS410064\n"
     ]
    }
   ],
   "source": [
    "path = r\"C:\\Users\\guilh\\OneDrive\\Desktop\\polatm\\ENS410064\"\n",
    "print(path)"
   ]
  },
  {
   "cell_type": "code",
   "execution_count": 59,
   "id": "5cd9d0db-bd34-4392-9f22-84d5a0e418c8",
   "metadata": {},
   "outputs": [
    {
     "name": "stdout",
     "output_type": "stream",
     "text": [
      "C:/Users/guilh/OneDrive/Desktop/polatm/ENS410064\n"
     ]
    }
   ],
   "source": [
    "path = \"C:/Users/guilh/OneDrive/Desktop/polatm/ENS410064\"\n",
    "print(path)"
   ]
  },
  {
   "cell_type": "code",
   "execution_count": 60,
   "id": "cdb3255c-5b46-4ddc-bfcb-d722f85d08de",
   "metadata": {},
   "outputs": [
    {
     "data": {
      "text/plain": [
       "['.git', '.gitignore', 'inputs', 'README.md', 'Scripts', 'venv']"
      ]
     },
     "execution_count": 60,
     "metadata": {},
     "output_type": "execute_result"
    }
   ],
   "source": [
    "import os\n",
    "# Listar arquivos na pasta\n",
    "os.listdir(path)"
   ]
  },
  {
   "cell_type": "code",
   "execution_count": 61,
   "id": "451f0c2e-e29f-44c3-bd95-29b0eb5d2bb3",
   "metadata": {},
   "outputs": [
    {
     "data": {
      "text/plain": [
       "'.git'"
      ]
     },
     "execution_count": 61,
     "metadata": {},
     "output_type": "execute_result"
    }
   ],
   "source": [
    "# Selecionar primeiro arquivo listado\n",
    "os.listdir(path)[0]"
   ]
  },
  {
   "cell_type": "code",
   "execution_count": 63,
   "id": "ad1ed122-5b55-4f4a-9f5a-c41105a2ab88",
   "metadata": {},
   "outputs": [
    {
     "data": {
      "text/plain": [
       "'C:/Users/guilh/OneDrive/Desktop/polatm/ENS410064/.git'"
      ]
     },
     "execution_count": 63,
     "metadata": {},
     "output_type": "execute_result"
    }
   ],
   "source": [
    "# Concatenando caminhos\n",
    "path+\"/\"+os.listdir(path)[0]"
   ]
  },
  {
   "cell_type": "code",
   "execution_count": 64,
   "id": "75fe2e9c-18e2-42e9-a1a4-5e5212009f5d",
   "metadata": {},
   "outputs": [
    {
     "data": {
      "text/plain": [
       "['COMMIT_EDITMSG',\n",
       " 'config',\n",
       " 'description',\n",
       " 'FETCH_HEAD',\n",
       " 'HEAD',\n",
       " 'hooks',\n",
       " 'index',\n",
       " 'info',\n",
       " 'logs',\n",
       " 'objects',\n",
       " 'packed-refs',\n",
       " 'refs']"
      ]
     },
     "execution_count": 64,
     "metadata": {},
     "output_type": "execute_result"
    }
   ],
   "source": [
    "# Listando caminho concatenado\n",
    "os.listdir(path+\"/\"+os.listdir(path)[0])"
   ]
  },
  {
   "cell_type": "code",
   "execution_count": 65,
   "id": "3d48374d-ba10-4af8-a563-93439a40ce6a",
   "metadata": {},
   "outputs": [
    {
     "data": {
      "text/plain": [
       "'C:\\\\Users\\\\guilh\\\\OneDrive\\\\Desktop\\\\polatm\\\\ENS410064\\\\venv\\\\Scripts'"
      ]
     },
     "execution_count": 65,
     "metadata": {},
     "output_type": "execute_result"
    }
   ],
   "source": [
    "# Diretório que estou trababalhando\n",
    "os.getcwd()"
   ]
  },
  {
   "cell_type": "code",
   "execution_count": 67,
   "id": "94cfe5c4-502b-4b01-a111-f3c7c7541e2e",
   "metadata": {},
   "outputs": [],
   "source": [
    "# Mudo de diretório para o caminho \n",
    "os.chdir('C:\\\\Users\\\\guilh\\\\OneDrive\\\\Desktop\\\\polatm')"
   ]
  },
  {
   "cell_type": "code",
   "execution_count": 68,
   "id": "f51c3a2e-20db-4269-84ae-f7ae6266e6b7",
   "metadata": {},
   "outputs": [
    {
     "data": {
      "text/plain": [
       "'C:\\\\Users\\\\guilh\\\\OneDrive\\\\Desktop\\\\polatm'"
      ]
     },
     "execution_count": 68,
     "metadata": {},
     "output_type": "execute_result"
    }
   ],
   "source": [
    "os.getcwd()"
   ]
  },
  {
   "cell_type": "code",
   "execution_count": 69,
   "id": "efde38c9-f161-478f-9a70-f4ac80406f64",
   "metadata": {},
   "outputs": [
    {
     "name": "stdout",
     "output_type": "stream",
     "text": [
      "Criando diretório C:\\Users\\guilh\\OneDrive\\Desktop\\polatm/test\n"
     ]
    }
   ],
   "source": [
    "# Criando diretório\n",
    "new_path = os.getcwd()+'/test'\n",
    "\n",
    "if os.path.isdir(new_path):\n",
    "    print('diretório já existe')\n",
    "else:\n",
    "    print('Criando diretório '+new_path)\n",
    "    os.mkdir(new_path)"
   ]
  },
  {
   "cell_type": "code",
   "execution_count": 70,
   "id": "9b2dd37d-f946-4f94-a93b-c2b22e30cc8a",
   "metadata": {},
   "outputs": [
    {
     "name": "stdout",
     "output_type": "stream",
     "text": [
      "Criando diretório C:\\Users\\guilh\\OneDrive\\Desktop\\polatm/test2\n"
     ]
    }
   ],
   "source": [
    "# Criando diretório\n",
    "new_path = os.getcwd()+'/test2'\n",
    "\n",
    "if os.path.isdir(new_path):\n",
    "    print('diretório já existe')\n",
    "    # Criando um arquivo de texto\n",
    "    with open(new_path+\"/copy.txt\", \"w\") as file:\n",
    "        file.write(\"Your text goes here\")\n",
    "else:\n",
    "    print('Criando diretório '+new_path)\n",
    "    os.mkdir(new_path)\n",
    "    with open(new_path+\"/copy.txt\", \"w\") as file:\n",
    "        file.write(\"Your text goes here\")"
   ]
  },
  {
   "cell_type": "markdown",
   "id": "a05ec2a4-400d-4803-bb20-071bd8abcd16",
   "metadata": {},
   "source": [
    "# Numpy arrays e Pandas DataFrames"
   ]
  },
  {
   "cell_type": "code",
   "execution_count": 71,
   "id": "7437732b-cf94-4a85-a06a-0d12ee11fb11",
   "metadata": {},
   "outputs": [
    {
     "data": {
      "text/plain": [
       "numpy.ndarray"
      ]
     },
     "execution_count": 71,
     "metadata": {},
     "output_type": "execute_result"
    }
   ],
   "source": [
    "import numpy as np\n",
    "# Criando uma variável numpy\n",
    "n = np.array(0)\n",
    "type(n)"
   ]
  },
  {
   "cell_type": "code",
   "execution_count": 72,
   "id": "28b6dafc-3018-459c-b71b-ac5638ae9c22",
   "metadata": {},
   "outputs": [
    {
     "name": "stdout",
     "output_type": "stream",
     "text": [
      "[ 1  2  3 10 20 55]\n"
     ]
    }
   ],
   "source": [
    "# Criando uma variável numpy a partir de uma lista\n",
    "myThirdList=[1,2,3,10,20,55]\n",
    "n = np.array(myThirdList)\n",
    "print(n)"
   ]
  },
  {
   "cell_type": "code",
   "execution_count": 73,
   "id": "7d0dff57-aa70-4753-bf8c-0d20cf3d0477",
   "metadata": {},
   "outputs": [
    {
     "name": "stdout",
     "output_type": "stream",
     "text": [
      "[[0.91515669 0.91203262 0.62394685 0.50222802 0.46218838 0.08246755\n",
      "  0.64121798 0.20762215 0.90699715 0.63085453]\n",
      " [0.25062091 0.36102695 0.65249394 0.59304142 0.77892397 0.23653247\n",
      "  0.38411986 0.39176992 0.15156484 0.15969252]\n",
      " [0.10783195 0.81212766 0.09447593 0.74621627 0.26268844 0.9410699\n",
      "  0.75236627 0.41640534 0.29951475 0.57879059]\n",
      " [0.39780104 0.67924374 0.13726095 0.94289604 0.55041425 0.17628031\n",
      "  0.60266724 0.37542569 0.12215695 0.92660924]\n",
      " [0.34019265 0.06687393 0.53825078 0.73428105 0.63794386 0.90630244\n",
      "  0.68024805 0.37576475 0.61555552 0.64984727]\n",
      " [0.21556992 0.57528516 0.63141764 0.30680044 0.35579261 0.40282217\n",
      "  0.25354154 0.98592435 0.58360238 0.53083479]\n",
      " [0.99357266 0.35525666 0.32096851 0.76283384 0.83818623 0.10868076\n",
      "  0.61869389 0.96279415 0.31200009 0.75288092]\n",
      " [0.32626899 0.16397371 0.04113964 0.40825634 0.85715329 0.54419485\n",
      "  0.84754091 0.93144792 0.12908645 0.50194573]\n",
      " [0.04898052 0.40163901 0.56508202 0.77320189 0.66689683 0.70943294\n",
      "  0.4149997  0.31401345 0.64210616 0.38533816]\n",
      " [0.90378178 0.95720142 0.7233109  0.03519162 0.25606867 0.19086459\n",
      "  0.4628974  0.79572082 0.03363192 0.11726676]]\n",
      "(10, 10)\n"
     ]
    }
   ],
   "source": [
    "# Criando uma matriz de 10x10 de números aleatórios entre 0 e 1\n",
    "n = np.random.rand(10,10)\n",
    "print(n)\n",
    "# Dimensões da matrix\n",
    "print(n.shape)"
   ]
  },
  {
   "cell_type": "code",
   "execution_count": 74,
   "id": "b2f03a71-468d-4099-8dc2-f1b370bbc363",
   "metadata": {},
   "outputs": [
    {
     "data": {
      "text/plain": [
       "array([0.91515669, 0.91203262, 0.62394685, 0.50222802, 0.46218838,\n",
       "       0.08246755, 0.64121798, 0.20762215, 0.90699715, 0.63085453])"
      ]
     },
     "execution_count": 74,
     "metadata": {},
     "output_type": "execute_result"
    }
   ],
   "source": [
    "# Acessando valores da matriz\n",
    "n[0,:]"
   ]
  },
  {
   "cell_type": "code",
   "execution_count": 75,
   "id": "f538a3eb-ea0c-4952-8c41-b5ec06dec34c",
   "metadata": {},
   "outputs": [
    {
     "data": {
      "text/plain": [
       "array([0.91515669, 0.25062091, 0.10783195, 0.39780104, 0.34019265,\n",
       "       0.21556992, 0.99357266, 0.32626899, 0.04898052, 0.90378178])"
      ]
     },
     "execution_count": 75,
     "metadata": {},
     "output_type": "execute_result"
    }
   ],
   "source": [
    "n[:,0]"
   ]
  },
  {
   "cell_type": "code",
   "execution_count": 76,
   "id": "c6a092d5-87e2-493d-b912-34a4a602b98b",
   "metadata": {},
   "outputs": [
    {
     "data": {
      "text/plain": [
       "array([[0.91203262, 0.62394685, 0.50222802, 0.46218838],\n",
       "       [0.36102695, 0.65249394, 0.59304142, 0.77892397],\n",
       "       [0.81212766, 0.09447593, 0.74621627, 0.26268844],\n",
       "       [0.67924374, 0.13726095, 0.94289604, 0.55041425],\n",
       "       [0.06687393, 0.53825078, 0.73428105, 0.63794386],\n",
       "       [0.57528516, 0.63141764, 0.30680044, 0.35579261],\n",
       "       [0.35525666, 0.32096851, 0.76283384, 0.83818623],\n",
       "       [0.16397371, 0.04113964, 0.40825634, 0.85715329],\n",
       "       [0.40163901, 0.56508202, 0.77320189, 0.66689683],\n",
       "       [0.95720142, 0.7233109 , 0.03519162, 0.25606867]])"
      ]
     },
     "execution_count": 76,
     "metadata": {},
     "output_type": "execute_result"
    }
   ],
   "source": [
    "n[:,1:5]"
   ]
  },
  {
   "cell_type": "code",
   "execution_count": 77,
   "id": "085a23ed-21c9-465c-a33d-543d582ac014",
   "metadata": {},
   "outputs": [
    {
     "data": {
      "text/plain": [
       "array([0.91203262, 0.62394685, 0.50222802, 0.46218838])"
      ]
     },
     "execution_count": 77,
     "metadata": {},
     "output_type": "execute_result"
    }
   ],
   "source": [
    "n[0,1:5]"
   ]
  },
  {
   "cell_type": "code",
   "execution_count": 78,
   "id": "f9ec15ff-3bed-4737-b332-fd064b115cc2",
   "metadata": {},
   "outputs": [
    {
     "data": {
      "text/plain": [
       "0.6308545292640018"
      ]
     },
     "execution_count": 78,
     "metadata": {},
     "output_type": "execute_result"
    }
   ],
   "source": [
    "n[0,-1]"
   ]
  },
  {
   "cell_type": "code",
   "execution_count": 79,
   "id": "e26048e0-fdb8-479c-b2e2-55e5a9e4c840",
   "metadata": {},
   "outputs": [
    {
     "data": {
      "text/plain": [
       "array([0.46218838, 0.08246755, 0.64121798, 0.20762215, 0.90699715])"
      ]
     },
     "execution_count": 79,
     "metadata": {},
     "output_type": "execute_result"
    }
   ],
   "source": [
    "n[0,4:-1]"
   ]
  },
  {
   "cell_type": "code",
   "execution_count": 80,
   "id": "cbb5779d-a0a0-426c-8657-e851fd8c9a77",
   "metadata": {},
   "outputs": [
    {
     "data": {
      "text/plain": [
       "array([0.46218838, 0.08246755, 0.64121798, 0.20762215, 0.90699715,\n",
       "       0.63085453])"
      ]
     },
     "execution_count": 80,
     "metadata": {},
     "output_type": "execute_result"
    }
   ],
   "source": [
    "n[0,4:]"
   ]
  },
  {
   "cell_type": "code",
   "execution_count": 81,
   "id": "9daa4960-6083-4653-ab46-8ec915763a0b",
   "metadata": {},
   "outputs": [
    {
     "name": "stdout",
     "output_type": "stream",
     "text": [
      "[[ 1.52077793  1.51735839  1.13774782  0.92073688  0.83765518 -0.88591253\n",
      "   1.16505209  0.03740247  1.51182194  1.14875793]\n",
      " [ 0.22562413  0.59063523  1.18248449  1.08694687  1.35959607  0.16776811\n",
      "   0.65263728  0.67235736 -0.27730383 -0.22506718]\n",
      " [-0.61774336  1.40134017 -0.7499723   1.3166981   0.27265133  1.54870005\n",
      "   1.3249059   0.7333418   0.4038463   1.06262338]\n",
      " [ 0.68763461  1.22266267 -0.37643349  1.55063867  1.01235382 -0.12624195\n",
      "   1.10304783  0.62974319 -0.49301064  1.53321458]\n",
      " [ 0.5311947  -1.0955082   0.99000722  1.30057449  1.15993292  1.51105571\n",
      "   1.22414015  0.6306459   1.12420779  1.17842   ]\n",
      " [ 0.07496795  1.05654848  1.14965015  0.42788014  0.57603064  0.70017783\n",
      "   0.23721031  1.59526226  1.07090253  0.97613347]\n",
      " [ 1.60298983  0.57452315  0.47302564  1.33872286  1.43292294 -0.60990263\n",
      "   1.12929326  1.57152226  0.44468612  1.32558971]\n",
      " [ 0.48940481 -0.19861126 -1.58134512  0.71357788  1.4552994   1.00099\n",
      "   1.44402175  1.53842291 -0.43783507  0.92017463]\n",
      " [-1.40689475  0.69723632  1.03865353  1.35222283  1.20431799  1.26614861\n",
      "   0.72996042  0.45111846  1.16643627  0.65580393]\n",
      " [ 1.50827057  1.56569647  1.28552178 -1.73750949  0.2471283  -0.04675312\n",
      "   0.83918807  1.38093103 -1.78284161 -0.53386606]]\n"
     ]
    }
   ],
   "source": [
    "an = np.log(n*5)\n",
    "print(an)"
   ]
  },
  {
   "cell_type": "code",
   "execution_count": null,
   "id": "f917ff3a-b6d9-43ea-82b1-46a968aa0782",
   "metadata": {},
   "outputs": [],
   "source": []
  }
 ],
 "metadata": {
  "kernelspec": {
   "display_name": "Python 3 (ipykernel)",
   "language": "python",
   "name": "python3"
  },
  "language_info": {
   "codemirror_mode": {
    "name": "ipython",
    "version": 3
   },
   "file_extension": ".py",
   "mimetype": "text/x-python",
   "name": "python",
   "nbconvert_exporter": "python",
   "pygments_lexer": "ipython3",
   "version": "3.11.8"
  }
 },
 "nbformat": 4,
 "nbformat_minor": 5
}
