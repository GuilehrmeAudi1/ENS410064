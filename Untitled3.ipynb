{
 "cells": [
  {
   "cell_type": "markdown",
   "id": "85928294-960d-418d-ab5d-ad98655eb36f",
   "metadata": {},
   "source": [
    "## modelagem de Dispersão\n",
    "neste notebook vamos implememntar o modelo de dispersão gaussiano.\n"
   ]
  },
  {
   "cell_type": "code",
   "execution_count": 3,
   "id": "41438ed0-d3df-4907-8d9f-88a00a1a4705",
   "metadata": {},
   "outputs": [],
   "source": [
    "# criando uma função no mdoelo gaussiano \n",
    "import numpy as np\n",
    "def modeloGaussiano(qs,sigmaY,sigmaZ,u,y,z,H):\n",
    "    termo1 = qs/(2*np.pi*sigmay*sigmaZ*u)\n",
    "    termo2 = np.exp((-y**2)/(2*sigmay**2))\n",
    "    termo2 = np.exp((-(z-H)**2)/(2*sigmay**2)) + np.exp((-(z+H)**2)/(2*sigmay**2))\n",
    "    conc = termo1*termo2*termo3\n",
    "    return conc"
   ]
  },
  {
   "cell_type": "code",
   "execution_count": 5,
   "id": "795f217b-2306-4709-ba9f-b7430b4bc2c9",
   "metadata": {},
   "outputs": [
    {
     "ename": "TypeError",
     "evalue": "modeloGaussiano() takes 0 positional arguments but 7 were given",
     "output_type": "error",
     "traceback": [
      "\u001b[1;31m---------------------------------------------------------------------------\u001b[0m",
      "\u001b[1;31mTypeError\u001b[0m                                 Traceback (most recent call last)",
      "Cell \u001b[1;32mIn[5], line 9\u001b[0m\n\u001b[0;32m      7\u001b[0m z \u001b[38;5;241m=\u001b[39m \u001b[38;5;241m1.5\u001b[39m \u001b[38;5;66;03m#h do nariz\u001b[39;00m\n\u001b[0;32m      8\u001b[0m H \u001b[38;5;241m=\u001b[39m \u001b[38;5;241m50\u001b[39m \u001b[38;5;66;03m#m\u001b[39;00m\n\u001b[1;32m----> 9\u001b[0m conc\u001b[38;5;241m=\u001b[39m \u001b[43mmodeloGaussiano\u001b[49m\u001b[43m(\u001b[49m\u001b[43mqs\u001b[49m\u001b[43m,\u001b[49m\u001b[43msigmaY\u001b[49m\u001b[43m,\u001b[49m\u001b[43msigmaZ\u001b[49m\u001b[43m,\u001b[49m\u001b[43mu\u001b[49m\u001b[43m,\u001b[49m\u001b[43my\u001b[49m\u001b[43m,\u001b[49m\u001b[43mz\u001b[49m\u001b[43m,\u001b[49m\u001b[43mH\u001b[49m\u001b[43m)\u001b[49m\n\u001b[0;32m     10\u001b[0m \u001b[38;5;28mprint\u001b[39m(conc)\n",
      "\u001b[1;31mTypeError\u001b[0m: modeloGaussiano() takes 0 positional arguments but 7 were given"
     ]
    }
   ],
   "source": [
    "#utilizando a função do modleo gaussiano\n",
    "qs = 100 #g/s\n",
    "sigmaY = 10 #m\n",
    "sigmaZ = 15 #m \n",
    "u = 10 #m/s\n",
    "y = 0 #estimando na direção do vento (eixo X)\n",
    "z = 1.5 #h do nariz\n",
    "H = 50 #m\n",
    "conc= modeloGaussiano(qs,sigmaY,sigmaZ,u,y,z,H)\n",
    "print(conc)"
   ]
  },
  {
   "cell_type": "code",
   "execution_count": null,
   "id": "79df69ff-0caa-462c-b77f-8cb5255671a4",
   "metadata": {},
   "outputs": [],
   "source": []
  }
 ],
 "metadata": {
  "kernelspec": {
   "display_name": "Python 3 (ipykernel)",
   "language": "python",
   "name": "python3"
  },
  "language_info": {
   "codemirror_mode": {
    "name": "ipython",
    "version": 3
   },
   "file_extension": ".py",
   "mimetype": "text/x-python",
   "name": "python",
   "nbconvert_exporter": "python",
   "pygments_lexer": "ipython3",
   "version": "3.11.8"
  }
 },
 "nbformat": 4,
 "nbformat_minor": 5
}
